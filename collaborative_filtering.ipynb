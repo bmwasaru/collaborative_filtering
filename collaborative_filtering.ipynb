{
 "cells": [
  {
   "cell_type": "code",
   "id": "initial_id",
   "metadata": {
    "collapsed": true,
    "ExecuteTime": {
     "end_time": "2024-08-12T16:51:04.394085Z",
     "start_time": "2024-08-12T16:51:04.389165Z"
    }
   },
   "source": [
    "import pandas as pd\n",
    "import numpy as np\n",
    "\n",
    "data = {\n",
    "    'user': ['user1', 'user1', 'user1', 'user2', 'user2', 'user2', 'user3', 'user3'],\n",
    "    'item': ['item1', 'item2', 'item3', 'item1', 'item2', 'item4', 'item2', 'item4'],\n",
    "    'rating': [5, 3, 4, 4, 2, 5, 5, 4]\n",
    "}\n",
    "\n",
    "df = pd.DataFrame(data)"
   ],
   "outputs": [],
   "execution_count": 3
  },
  {
   "metadata": {},
   "cell_type": "markdown",
   "source": "## User-Based Collaborative Filtering",
   "id": "418bfa9d5e3c6235"
  },
  {
   "metadata": {
    "ExecuteTime": {
     "end_time": "2024-08-12T16:51:06.528962Z",
     "start_time": "2024-08-12T16:51:06.519062Z"
    }
   },
   "cell_type": "code",
   "source": [
    "user_item_matrix = df.pivot(index='user', columns='item', values='rating')\n",
    "user_item_matrix = user_item_matrix.fillna(0)\n",
    "print(user_item_matrix)"
   ],
   "id": "3635e37665e55484",
   "outputs": [
    {
     "name": "stdout",
     "output_type": "stream",
     "text": [
      "item   item1  item2  item3  item4\n",
      "user                             \n",
      "user1    5.0    3.0    4.0    0.0\n",
      "user2    4.0    2.0    0.0    5.0\n",
      "user3    0.0    5.0    0.0    4.0\n"
     ]
    }
   ],
   "execution_count": 4
  },
  {
   "metadata": {
    "ExecuteTime": {
     "end_time": "2024-08-12T16:55:01.921728Z",
     "start_time": "2024-08-12T16:55:01.529857Z"
    }
   },
   "cell_type": "code",
   "source": [
    "# calculate similarity between users\n",
    "\n",
    "from sklearn.metrics.pairwise import cosine_similarity\n",
    "\n",
    "# calculate cosine similarities between users\n",
    "user_similarity = cosine_similarity(user_item_matrix)\n",
    "user_similarity_df = pd.DataFrame(user_similarity, index=user_item_matrix.index, columns=user_item_matrix.index)\n",
    "print(user_similarity_df)"
   ],
   "id": "67f42e86ae533ee7",
   "outputs": [
    {
     "name": "stdout",
     "output_type": "stream",
     "text": [
      "user      user1     user2     user3\n",
      "user                               \n",
      "user1  1.000000  0.548128  0.331295\n",
      "user2  0.548128  1.000000  0.698430\n",
      "user3  0.331295  0.698430  1.000000\n"
     ]
    }
   ],
   "execution_count": 5
  },
  {
   "metadata": {
    "ExecuteTime": {
     "end_time": "2024-08-12T17:03:14.278611Z",
     "start_time": "2024-08-12T17:03:14.274291Z"
    }
   },
   "cell_type": "code",
   "source": [
    "# recommend items to user by aggregating the ratings of the items that similar users have liked\n",
    "def get_user_recommendations(target_user, user_similarity_df, user_item_matrix, top_n=2):\n",
    "    # find similar users\n",
    "    similar_users = user_similarity_df[target_user].sort_values(ascending=False)\n",
    "    # Weighted sum of ratings from similar users\n",
    "    weighted_sum = np.dot(similar_users, user_item_matrix)\n",
    "    # get target user's rating history\n",
    "    user_ratings = user_item_matrix.loc[target_user]\n",
    "    # items the user hasn't rated yet\n",
    "    unrated_items = user_ratings[user_ratings == 0]\n",
    "    # filter the weighted sum of unrated items\n",
    "    recommendations = weighted_sum[user_ratings == 0]\n",
    "    # sort recommendations and return top_n items\n",
    "    recommendations = pd.Series(recommendations, index=unrated_items.index)\n",
    "    return recommendations.sort_values(ascending=False).head(top_n)"
   ],
   "id": "c4b296e9b71e30b1",
   "outputs": [],
   "execution_count": 6
  },
  {
   "metadata": {
    "ExecuteTime": {
     "end_time": "2024-08-12T17:05:38.575750Z",
     "start_time": "2024-08-12T17:05:38.570639Z"
    }
   },
   "cell_type": "code",
   "source": [
    "recommendations = get_user_recommendations('user2', user_similarity_df, user_item_matrix)\n",
    "print(f\"Recommendations for user2: {recommendations}\")"
   ],
   "id": "e4fb56f60cf4c4f6",
   "outputs": [
    {
     "name": "stdout",
     "output_type": "stream",
     "text": [
      "Recommendations for user2: item\n",
      "item3    4.0\n",
      "dtype: float64\n"
     ]
    }
   ],
   "execution_count": 9
  },
  {
   "metadata": {},
   "cell_type": "markdown",
   "source": [
    "## Item-based collaborative filtering\n",
    "\n",
    "This is done by calculating similarities between items instead of users"
   ],
   "id": "20241131980cf5df"
  },
  {
   "metadata": {
    "ExecuteTime": {
     "end_time": "2024-08-12T17:09:53.444899Z",
     "start_time": "2024-08-12T17:09:53.439578Z"
    }
   },
   "cell_type": "code",
   "source": [
    "item_similarity = cosine_similarity(user_item_matrix.T)\n",
    "item_similarity_df = pd.DataFrame(item_similarity, index=user_item_matrix.columns, columns=user_item_matrix.columns)\n",
    "\n",
    "print(item_similarity_df)"
   ],
   "id": "c9a2d1e0fd0ec03b",
   "outputs": [
    {
     "name": "stdout",
     "output_type": "stream",
     "text": [
      "item      item1     item2     item3     item4\n",
      "item                                         \n",
      "item1  1.000000  0.582699  0.780869  0.487805\n",
      "item2  0.582699  1.000000  0.486664  0.760042\n",
      "item3  0.780869  0.486664  1.000000  0.000000\n",
      "item4  0.487805  0.760042  0.000000  1.000000\n"
     ]
    }
   ],
   "execution_count": 10
  },
  {
   "metadata": {
    "ExecuteTime": {
     "end_time": "2024-08-12T17:23:44.495894Z",
     "start_time": "2024-08-12T17:23:44.491134Z"
    }
   },
   "cell_type": "code",
   "source": [
    "def get_item_recommendations(target_user, item_similarity_df, user_item_matrix, top_n=2):\n",
    "    # get user ratings\n",
    "    user_ratings = user_item_matrix.loc[target_user]\n",
    "    # calculated weighted sum of item similarities\n",
    "    weighted_sum = np.dot(user_ratings, item_similarity_df)\n",
    "    # items the user hasn't rated yet\n",
    "    unrated_items = user_ratings[user_ratings == 0]\n",
    "    # filter the weighted sum for unrated items\n",
    "    recommendations = weighted_sum[user_ratings == 0]\n",
    "    # sort recommendations & return top_n items\n",
    "    recommendations = pd.Series(recommendations, index=unrated_items.index)\n",
    "    return recommendations.sort_values(ascending=False).head(top_n)\n",
    "\n",
    "recommendations = get_item_recommendations('user3', item_similarity_df, user_item_matrix)\n",
    "print(f\"Item based recommendations for user3: {recommendations}\")"
   ],
   "id": "4ad45a52d8b77e53",
   "outputs": [
    {
     "name": "stdout",
     "output_type": "stream",
     "text": [
      "Item based recommendations for user3: item\n",
      "item1    4.864713\n",
      "item3    2.433321\n",
      "dtype: float64\n"
     ]
    }
   ],
   "execution_count": 11
  },
  {
   "metadata": {},
   "cell_type": "code",
   "outputs": [],
   "execution_count": null,
   "source": "",
   "id": "b64fdcf82078b12b"
  }
 ],
 "metadata": {
  "kernelspec": {
   "display_name": "Python 3",
   "language": "python",
   "name": "python3"
  },
  "language_info": {
   "codemirror_mode": {
    "name": "ipython",
    "version": 2
   },
   "file_extension": ".py",
   "mimetype": "text/x-python",
   "name": "python",
   "nbconvert_exporter": "python",
   "pygments_lexer": "ipython2",
   "version": "2.7.6"
  }
 },
 "nbformat": 4,
 "nbformat_minor": 5
}
